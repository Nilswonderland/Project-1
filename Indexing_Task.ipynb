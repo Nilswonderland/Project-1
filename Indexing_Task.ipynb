{
  "nbformat": 4,
  "nbformat_minor": 0,
  "metadata": {
    "colab": {
      "name": "Indexing Task",
      "provenance": [],
      "authorship_tag": "ABX9TyMVYN8HIhc9blt9S8PAnY+H",
      "include_colab_link": true
    },
    "kernelspec": {
      "name": "python3",
      "display_name": "Python 3"
    },
    "language_info": {
      "name": "python"
    }
  },
  "cells": [
    {
      "cell_type": "markdown",
      "metadata": {
        "id": "view-in-github",
        "colab_type": "text"
      },
      "source": [
        "<a href=\"https://colab.research.google.com/github/Nilswonderland/Python-Tasks/blob/main/Indexing_Task.ipynb\" target=\"_parent\"><img src=\"https://colab.research.google.com/assets/colab-badge.svg\" alt=\"Open In Colab\"/></a>"
      ]
    },
    {
      "cell_type": "markdown",
      "source": [
        "**mail = \"mailto: NASA nssc-contactcenter@nasa.gov\n",
        "\n",
        "**Write python code that outputs \"nasa.gov\" from the string in the \"mail\" variable.**\n",
        "\n",
        "**Expected Output: nasa.gov**"
      ],
      "metadata": {
        "id": "Ry7JwqpbxG4N"
      }
    },
    {
      "cell_type": "code",
      "execution_count": 4,
      "metadata": {
        "colab": {
          "base_uri": "https://localhost:8080/",
          "height": 37
        },
        "id": "QQXDyo6-wrOn",
        "outputId": "e10bacc8-98f0-42d6-ff6c-49158e3fb0df"
      },
      "outputs": [
        {
          "output_type": "execute_result",
          "data": {
            "application/vnd.google.colaboratory.intrinsic+json": {
              "type": "string"
            },
            "text/plain": [
              "'nasa.gov'"
            ]
          },
          "metadata": {},
          "execution_count": 4
        }
      ],
      "source": [
        "mail = \"Click for mail to NASA nssc-contactcenter@nasa.gov, \"\n",
        "adress = mail[mail.index('@') + 1: mail.index(\",\")]\n",
        "adress"
      ]
    },
    {
      "cell_type": "code",
      "source": [
        "psychology = \"psychological wellbeing is essential/ for all human beings\"\n",
        "new = psychology[psychology.index('/')+1:]\n",
        "new"
      ],
      "metadata": {
        "colab": {
          "base_uri": "https://localhost:8080/",
          "height": 37
        },
        "id": "Eze78gbUxiu4",
        "outputId": "850c42c6-ffd2-4222-fb6b-dcf03bd140c1"
      },
      "execution_count": 8,
      "outputs": [
        {
          "output_type": "execute_result",
          "data": {
            "application/vnd.google.colaboratory.intrinsic+json": {
              "type": "string"
            },
            "text/plain": [
              "' for all human beings'"
            ]
          },
          "metadata": {},
          "execution_count": 8
        }
      ]
    },
    {
      "cell_type": "code",
      "source": [
        "quote = \"Success is not an activity, but a process.\"\n",
        "new_2 = quote[quote.index(\",\") +1 : quote.index(\".\")]\n",
        "new_2.title()"
      ],
      "metadata": {
        "colab": {
          "base_uri": "https://localhost:8080/",
          "height": 37
        },
        "id": "bXKO4SJhy0ab",
        "outputId": "0f355606-9ae6-4d25-dd95-e08705d6f76d"
      },
      "execution_count": 19,
      "outputs": [
        {
          "output_type": "execute_result",
          "data": {
            "application/vnd.google.colaboratory.intrinsic+json": {
              "type": "string"
            },
            "text/plain": [
              "' But A Process'"
            ]
          },
          "metadata": {},
          "execution_count": 19
        }
      ]
    }
  ]
}
