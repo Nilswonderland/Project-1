{
  "nbformat": 4,
  "nbformat_minor": 0,
  "metadata": {
    "colab": {
      "name": "Python Tasks-1.ipynb",
      "provenance": [],
      "authorship_tag": "ABX9TyMBPR6eCh+6m268oddSSPlC",
      "include_colab_link": true
    },
    "kernelspec": {
      "name": "python3",
      "display_name": "Python 3"
    },
    "language_info": {
      "name": "python"
    }
  },
  "cells": [
    {
      "cell_type": "markdown",
      "metadata": {
        "id": "view-in-github",
        "colab_type": "text"
      },
      "source": [
        "<a href=\"https://colab.research.google.com/github/Nilswonderland/Python-Tasks/blob/main/Python_Tasks_1.ipynb\" target=\"_parent\"><img src=\"https://colab.research.google.com/assets/colab-badge.svg\" alt=\"Open In Colab\"/></a>"
      ]
    },
    {
      "cell_type": "markdown",
      "source": [
        "Write a program that sorts numbers from 1 to 10 in descending order."
      ],
      "metadata": {
        "id": "KTSh7HhA1Ndb"
      }
    },
    {
      "cell_type": "code",
      "execution_count": null,
      "metadata": {
        "colab": {
          "base_uri": "https://localhost:8080/"
        },
        "id": "VAbJEcER1Jwd",
        "outputId": "7a0ddc70-aa42-4c42-e171-2ce902aaf86e"
      },
      "outputs": [
        {
          "output_type": "stream",
          "name": "stdout",
          "text": [
            "[10, 9, 8, 7, 6, 5, 4, 3, 2, 1]\n"
          ]
        }
      ],
      "source": [
        "numbers = sorted([i for i in range(1,11)], reverse = True)\n",
        "print(numbers)"
      ]
    },
    {
      "cell_type": "code",
      "source": [
        "numbers = list(range(11)) # When there is no limitation for starting point\n",
        "print(numbers[::-1])"
      ],
      "metadata": {
        "colab": {
          "base_uri": "https://localhost:8080/"
        },
        "id": "XADlOF9c2zD8",
        "outputId": "e14845af-d237-4b6f-c2da-31597bee355a"
      },
      "execution_count": null,
      "outputs": [
        {
          "output_type": "stream",
          "name": "stdout",
          "text": [
            "[10, 9, 8, 7, 6, 5, 4, 3, 2, 1, 0]\n"
          ]
        }
      ]
    },
    {
      "cell_type": "code",
      "source": [
        "print(numbers[::2])"
      ],
      "metadata": {
        "colab": {
          "base_uri": "https://localhost:8080/"
        },
        "id": "nNRdrEIp3iDT",
        "outputId": "89154a65-6e73-44cd-deb1-8adb851f5e4f"
      },
      "execution_count": null,
      "outputs": [
        {
          "output_type": "stream",
          "name": "stdout",
          "text": [
            "[1, 3, 5, 7, 9]\n"
          ]
        }
      ]
    },
    {
      "cell_type": "code",
      "source": [
        "for i in numbers[::-2]:\n",
        "  print(i, end = \" \")\n",
        "\n"
      ],
      "metadata": {
        "colab": {
          "base_uri": "https://localhost:8080/"
        },
        "id": "X8PlCv7b3oex",
        "outputId": "d41226e6-c522-41da-f7d4-b438ef8e28a0"
      },
      "execution_count": null,
      "outputs": [
        {
          "output_type": "stream",
          "name": "stdout",
          "text": [
            "10 8 6 4 2 0 "
          ]
        }
      ]
    },
    {
      "cell_type": "code",
      "source": [
        "new_list = (numbers[::-2])\n",
        "print(new_list)"
      ],
      "metadata": {
        "colab": {
          "base_uri": "https://localhost:8080/"
        },
        "id": "007Flwof6U-B",
        "outputId": "14e9b1d7-94ac-4942-ed08-1eeabe798325"
      },
      "execution_count": null,
      "outputs": [
        {
          "output_type": "stream",
          "name": "stdout",
          "text": [
            "[10, 8, 6, 4, 2, 0]\n"
          ]
        }
      ]
    },
    {
      "cell_type": "code",
      "source": [
        "for i in range(101):\n",
        "  print(i, end = \",\")\n"
      ],
      "metadata": {
        "colab": {
          "base_uri": "https://localhost:8080/"
        },
        "id": "icynUhsa5PQ7",
        "outputId": "d73a9991-d63d-49de-ea43-c744d8d3bc09"
      },
      "execution_count": null,
      "outputs": [
        {
          "output_type": "stream",
          "name": "stdout",
          "text": [
            "0,1,2,3,4,5,6,7,8,9,10,11,12,13,14,15,16,17,18,19,20,21,22,23,24,25,26,27,28,29,30,31,32,33,34,35,36,37,38,39,40,41,42,43,44,45,46,47,48,49,50,51,52,53,54,55,56,57,58,59,60,61,62,63,64,65,66,67,68,69,70,71,72,73,74,75,76,77,78,79,80,81,82,83,84,85,86,87,88,89,90,91,92,93,94,95,96,97,98,99,100,"
          ]
        }
      ]
    },
    {
      "cell_type": "code",
      "source": [
        "multiples_5 = []\n",
        "for i in range(101) :\n",
        "  if i % 5 == 0:\n",
        "    multiples_5.append(i)\n",
        "      \n",
        "\n",
        "print(multiples_5, end = \" \")\n",
        "print(\"\\n\",sorted(multiples_5, reverse=True), end = \" \")\n"
      ],
      "metadata": {
        "colab": {
          "base_uri": "https://localhost:8080/"
        },
        "id": "Wt95r11H6Xtd",
        "outputId": "cfc312cc-a852-4680-a0cf-4b9f3663cace"
      },
      "execution_count": null,
      "outputs": [
        {
          "output_type": "stream",
          "name": "stdout",
          "text": [
            "[0, 5, 10, 15, 20, 25, 30, 35, 40, 45, 50, 55, 60, 65, 70, 75, 80, 85, 90, 95, 100] \n",
            " [100, 95, 90, 85, 80, 75, 70, 65, 60, 55, 50, 45, 40, 35, 30, 25, 20, 15, 10, 5, 0] "
          ]
        }
      ]
    },
    {
      "cell_type": "code",
      "source": [
        "for i in range(5,0,-1):\n",
        "  print(i * \":/\")"
      ],
      "metadata": {
        "colab": {
          "base_uri": "https://localhost:8080/"
        },
        "id": "ZiqfonWlu8az",
        "outputId": "d212e944-435b-4144-a180-5140d5d7a906"
      },
      "execution_count": null,
      "outputs": [
        {
          "output_type": "stream",
          "name": "stdout",
          "text": [
            ":/:/:/:/:/\n",
            ":/:/:/:/\n",
            ":/:/:/\n",
            ":/:/\n",
            ":/\n"
          ]
        }
      ]
    },
    {
      "cell_type": "code",
      "source": [
        "number = int(input(\"\"))\n",
        "for i in range(1,number+1) :\n",
        "  print(\" \" * (number+1 -i), *range(1,i+1))"
      ],
      "metadata": {
        "colab": {
          "base_uri": "https://localhost:8080/"
        },
        "id": "d76U2fCdvQi-",
        "outputId": "b61341f6-ebb5-4bdf-fcb7-d696c1f52c2f"
      },
      "execution_count": null,
      "outputs": [
        {
          "output_type": "stream",
          "name": "stdout",
          "text": [
            "12\n",
            "             1\n",
            "            1 2\n",
            "           1 2 3\n",
            "          1 2 3 4\n",
            "         1 2 3 4 5\n",
            "        1 2 3 4 5 6\n",
            "       1 2 3 4 5 6 7\n",
            "      1 2 3 4 5 6 7 8\n",
            "     1 2 3 4 5 6 7 8 9\n",
            "    1 2 3 4 5 6 7 8 9 10\n",
            "   1 2 3 4 5 6 7 8 9 10 11\n",
            "  1 2 3 4 5 6 7 8 9 10 11 12\n"
          ]
        }
      ]
    },
    {
      "cell_type": "code",
      "source": [
        "number = int(input(\"\"))\n",
        "for i in range(1,number+1) :\n",
        "  print(\" \" * (number+1 - i), *range(1,i+1))"
      ],
      "metadata": {
        "colab": {
          "base_uri": "https://localhost:8080/"
        },
        "id": "sAVYkQdXvd5u",
        "outputId": "a8139755-b938-4a19-a201-938551ac89cb"
      },
      "execution_count": null,
      "outputs": [
        {
          "output_type": "stream",
          "name": "stdout",
          "text": [
            "12\n",
            "             1\n",
            "            1 2\n",
            "           1 2 3\n",
            "          1 2 3 4\n",
            "         1 2 3 4 5\n",
            "        1 2 3 4 5 6\n",
            "       1 2 3 4 5 6 7\n",
            "      1 2 3 4 5 6 7 8\n",
            "     1 2 3 4 5 6 7 8 9\n",
            "    1 2 3 4 5 6 7 8 9 10\n",
            "   1 2 3 4 5 6 7 8 9 10 11\n",
            "  1 2 3 4 5 6 7 8 9 10 11 12\n"
          ]
        }
      ]
    },
    {
      "cell_type": "code",
      "source": [
        "number = int(input(\"\"))\n",
        "for i in range(1,number+1) :\n",
        "  print(\" \" * (number), *range(1,i+1))"
      ],
      "metadata": {
        "colab": {
          "base_uri": "https://localhost:8080/"
        },
        "id": "hol-SpNEvwyS",
        "outputId": "2c217538-fed8-4c27-be71-09cf5a6f4fb0"
      },
      "execution_count": null,
      "outputs": [
        {
          "output_type": "stream",
          "name": "stdout",
          "text": [
            "12\n",
            "             1\n",
            "             1 2\n",
            "             1 2 3\n",
            "             1 2 3 4\n",
            "             1 2 3 4 5\n",
            "             1 2 3 4 5 6\n",
            "             1 2 3 4 5 6 7\n",
            "             1 2 3 4 5 6 7 8\n",
            "             1 2 3 4 5 6 7 8 9\n",
            "             1 2 3 4 5 6 7 8 9 10\n",
            "             1 2 3 4 5 6 7 8 9 10 11\n",
            "             1 2 3 4 5 6 7 8 9 10 11 12\n"
          ]
        }
      ]
    },
    {
      "cell_type": "code",
      "source": [
        "number = int(input(\"\"))\n",
        "for i in range(1,number+1) :\n",
        "  print(\" \" * (number+1 +i), *range(1,i+1))"
      ],
      "metadata": {
        "id": "Eg3JzMN3wFcF",
        "outputId": "409f25fd-efa4-45c4-a185-e40358805b98",
        "colab": {
          "base_uri": "https://localhost:8080/"
        }
      },
      "execution_count": null,
      "outputs": [
        {
          "output_type": "stream",
          "name": "stdout",
          "text": [
            "12\n",
            "               1\n",
            "                1 2\n",
            "                 1 2 3\n",
            "                  1 2 3 4\n",
            "                   1 2 3 4 5\n",
            "                    1 2 3 4 5 6\n",
            "                     1 2 3 4 5 6 7\n",
            "                      1 2 3 4 5 6 7 8\n",
            "                       1 2 3 4 5 6 7 8 9\n",
            "                        1 2 3 4 5 6 7 8 9 10\n",
            "                         1 2 3 4 5 6 7 8 9 10 11\n",
            "                          1 2 3 4 5 6 7 8 9 10 11 12\n"
          ]
        }
      ]
    }
  ]
}